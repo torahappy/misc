{
 "cells": [
  {
   "cell_type": "code",
   "execution_count": 1,
   "metadata": {},
   "outputs": [],
   "source": [
    "from sympy import *\n",
    "from IPython.display import display, Math\n",
    "from random import randint\n",
    "\n",
    "def display_formula(x):\n",
    "    display(Math(latex(x)))\n",
    "\n",
    "eqs = []\n",
    "\n",
    "# this constant shows a \"xy-point to a scalar\" mapping.\n",
    "points = [[[randint(1,14)*sqrt(5), randint(1,14)*sqrt(5)], randint(1,14)] for _ in range(4)]\n",
    "\n",
    "coeff_to_component = {}\n",
    "\n",
    "k = 3\n",
    "\n",
    "def ij_to_coeff(i, j):\n",
    "    return Symbol('\\\\beta_{x^%sy^%s}' % (i, j))\n",
    "\n",
    "# construct a \"symbol to sympy formula\" mapping\n",
    "for i in range(k):\n",
    "    for j in range(k):\n",
    "        coeff = ij_to_coeff(i, j)\n",
    "        coeff_to_component[coeff] = (Symbol('x')**i)*(Symbol('y')**j)\n",
    "\n",
    "# construct equations for polynomial fitting\n",
    "for [[x,y],z] in points:\n",
    "    sumval = -z\n",
    "    for i in range(k):\n",
    "        for j in range(k):\n",
    "            coeff = ij_to_coeff(i, j)\n",
    "            sumval += (x**i)*(y**j)*coeff\n",
    "    eqs.append(sumval)"
   ]
  },
  {
   "cell_type": "code",
   "execution_count": 2,
   "metadata": {
    "scrolled": true
   },
   "outputs": [
    {
     "data": {
      "text/latex": [
       "$\\displaystyle \\beta_{x^0y^0} + 14 \\sqrt{5} \\beta_{x^0y^1} + 980 \\beta_{x^0y^2} + 14 \\sqrt{5} \\beta_{x^1y^0} + 980 \\beta_{x^1y^1} + 13720 \\sqrt{5} \\beta_{x^1y^2} + 980 \\beta_{x^2y^0} + 13720 \\sqrt{5} \\beta_{x^2y^1} + 960400 \\beta_{x^2y^2} - 11 = 0$"
      ],
      "text/plain": [
       "<IPython.core.display.Math object>"
      ]
     },
     "metadata": {},
     "output_type": "display_data"
    },
    {
     "data": {
      "text/latex": [
       "$\\displaystyle \\beta_{x^0y^0} + 13 \\sqrt{5} \\beta_{x^0y^1} + 845 \\beta_{x^0y^2} + 3 \\sqrt{5} \\beta_{x^1y^0} + 195 \\beta_{x^1y^1} + 2535 \\sqrt{5} \\beta_{x^1y^2} + 45 \\beta_{x^2y^0} + 585 \\sqrt{5} \\beta_{x^2y^1} + 38025 \\beta_{x^2y^2} - 10 = 0$"
      ],
      "text/plain": [
       "<IPython.core.display.Math object>"
      ]
     },
     "metadata": {},
     "output_type": "display_data"
    },
    {
     "data": {
      "text/latex": [
       "$\\displaystyle \\beta_{x^0y^0} + \\sqrt{5} \\beta_{x^0y^1} + 5 \\beta_{x^0y^2} + 11 \\sqrt{5} \\beta_{x^1y^0} + 55 \\beta_{x^1y^1} + 55 \\sqrt{5} \\beta_{x^1y^2} + 605 \\beta_{x^2y^0} + 605 \\sqrt{5} \\beta_{x^2y^1} + 3025 \\beta_{x^2y^2} - 8 = 0$"
      ],
      "text/plain": [
       "<IPython.core.display.Math object>"
      ]
     },
     "metadata": {},
     "output_type": "display_data"
    },
    {
     "data": {
      "text/latex": [
       "$\\displaystyle \\beta_{x^0y^0} + 7 \\sqrt{5} \\beta_{x^0y^1} + 245 \\beta_{x^0y^2} + 12 \\sqrt{5} \\beta_{x^1y^0} + 420 \\beta_{x^1y^1} + 2940 \\sqrt{5} \\beta_{x^1y^2} + 720 \\beta_{x^2y^0} + 5040 \\sqrt{5} \\beta_{x^2y^1} + 176400 \\beta_{x^2y^2} - 10 = 0$"
      ],
      "text/plain": [
       "<IPython.core.display.Math object>"
      ]
     },
     "metadata": {},
     "output_type": "display_data"
    }
   ],
   "source": [
    "# print equations\n",
    "for eq in eqs:\n",
    "    display_formula(Eq(eq, 0))"
   ]
  },
  {
   "cell_type": "code",
   "execution_count": 3,
   "metadata": {},
   "outputs": [],
   "source": [
    "# solve equations\n",
    "solution = solve(eqs)"
   ]
  },
  {
   "cell_type": "code",
   "execution_count": 4,
   "metadata": {},
   "outputs": [
    {
     "data": {
      "text/latex": [
       "$\\displaystyle \\beta_{x^1y^0} = - \\frac{1267 \\sqrt{5} \\beta_{x^1y^1}}{97} - \\frac{83321 \\beta_{x^1y^2}}{97} - \\frac{1619 \\sqrt{5} \\beta_{x^2y^0}}{97} - \\frac{106141 \\beta_{x^2y^1}}{97} - \\frac{1405075 \\sqrt{5} \\beta_{x^2y^2}}{97} + \\frac{43 \\sqrt{5}}{2425}$"
      ],
      "text/plain": [
       "<IPython.core.display.Math object>"
      ]
     },
     "metadata": {},
     "output_type": "display_data"
    },
    {
     "data": {
      "text/latex": [
       "$\\displaystyle \\beta_{x^0y^2} = - \\frac{17 \\beta_{x^1y^1}}{97} - \\frac{1428 \\sqrt{5} \\beta_{x^1y^2}}{97} - \\frac{12 \\beta_{x^2y^0}}{97} - \\frac{553 \\sqrt{5} \\beta_{x^2y^1}}{97} - \\frac{111150 \\beta_{x^2y^2}}{97} - \\frac{3}{970}$"
      ],
      "text/plain": [
       "<IPython.core.display.Math object>"
      ]
     },
     "metadata": {},
     "output_type": "display_data"
    },
    {
     "data": {
      "text/latex": [
       "$\\displaystyle \\beta_{x^0y^1} = - \\frac{833 \\sqrt{5} \\beta_{x^1y^1}}{97} + \\frac{24366 \\beta_{x^1y^2}}{97} - \\frac{6 \\sqrt{5} \\beta_{x^2y^0}}{97} - \\frac{31889 \\beta_{x^2y^1}}{97} + \\frac{562800 \\sqrt{5} \\beta_{x^2y^2}}{97} + \\frac{429 \\sqrt{5}}{4850}$"
      ],
      "text/plain": [
       "<IPython.core.display.Math object>"
      ]
     },
     "metadata": {},
     "output_type": "display_data"
    },
    {
     "data": {
      "text/latex": [
       "$\\displaystyle \\beta_{x^0y^0} = \\frac{68600 \\beta_{x^1y^1}}{97} + \\frac{893970 \\sqrt{5} \\beta_{x^1y^2}}{97} + \\frac{30450 \\beta_{x^2y^0}}{97} + \\frac{1143520 \\sqrt{5} \\beta_{x^2y^1}}{97} + \\frac{74727450 \\beta_{x^2y^2}}{97} + \\frac{640}{97}$"
      ],
      "text/plain": [
       "<IPython.core.display.Math object>"
      ]
     },
     "metadata": {},
     "output_type": "display_data"
    }
   ],
   "source": [
    "# print solution\n",
    "\n",
    "for name, value in solution.items():\n",
    "    display_formula(Eq(name, value))"
   ]
  },
  {
   "cell_type": "code",
   "execution_count": 5,
   "metadata": {},
   "outputs": [],
   "source": [
    "# calculate \"x^iy^j -> coefficient\" mapping\n",
    "\n",
    "sol_coeffs = {}\n",
    "for name, value in solution.items():\n",
    "    sol_coeffs[name] = value.subs(zip(coeff_to_component.keys(),[0]*len(coeff_to_component)))"
   ]
  },
  {
   "cell_type": "code",
   "execution_count": 6,
   "metadata": {},
   "outputs": [],
   "source": [
    "# calculate polynomial from \"x^iy^j -> coefficient \" mapping\n",
    "sol_polynomial = 0\n",
    "for name, value in sol_coeffs.items():\n",
    "    sol_polynomial += coeff_to_component[name]*value"
   ]
  },
  {
   "cell_type": "code",
   "execution_count": 7,
   "metadata": {},
   "outputs": [
    {
     "data": {
      "text/latex": [
       "$\\displaystyle \\frac{43 \\sqrt{5} x}{2425} - \\frac{3 y^{2}}{970} + \\frac{429 \\sqrt{5} y}{4850} + \\frac{640}{97}$"
      ],
      "text/plain": [
       "<IPython.core.display.Math object>"
      ]
     },
     "metadata": {},
     "output_type": "display_data"
    }
   ],
   "source": [
    "# print calculated polynomial\n",
    "display_formula(sol_polynomial)"
   ]
  },
  {
   "cell_type": "code",
   "execution_count": null,
   "metadata": {},
   "outputs": [],
   "source": []
  }
 ],
 "metadata": {
  "kernelspec": {
   "display_name": "Python 3",
   "language": "python",
   "name": "python3"
  },
  "language_info": {
   "codemirror_mode": {
    "name": "ipython",
    "version": 3
   },
   "file_extension": ".py",
   "mimetype": "text/x-python",
   "name": "python",
   "nbconvert_exporter": "python",
   "pygments_lexer": "ipython3",
   "version": "3.7.7"
  }
 },
 "nbformat": 4,
 "nbformat_minor": 4
}
